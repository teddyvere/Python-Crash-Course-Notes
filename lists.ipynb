{
 "cells": [
  {
   "cell_type": "markdown",
   "metadata": {},
   "source": [
    "Accessing elements in a List"
   ]
  },
  {
   "cell_type": "code",
   "execution_count": 5,
   "metadata": {},
   "outputs": [
    {
     "name": "stdout",
     "output_type": "stream",
     "text": [
      "['trek', 'cannondale', 'redline', 'specialized']\n",
      "trek\n",
      "Trek\n",
      "specialized\n"
     ]
    }
   ],
   "source": [
    "bicycles = ['trek', 'cannondale', 'redline', 'specialized']\n",
    "print(bicycles)\n",
    "print(bicycles[0])\n",
    "print(bicycles[0].title())\n",
    "print(bicycles[-1])"
   ]
  },
  {
   "cell_type": "markdown",
   "metadata": {},
   "source": [
    "Using Individual Values From a List"
   ]
  },
  {
   "cell_type": "code",
   "execution_count": 6,
   "metadata": {},
   "outputs": [
    {
     "name": "stdout",
     "output_type": "stream",
     "text": [
      "My first bicycle was a Trek\n"
     ]
    }
   ],
   "source": [
    "print(f\"My first bicycle was a {bicycles[0].title()}\")"
   ]
  },
  {
   "cell_type": "markdown",
   "metadata": {},
   "source": [
    "Changing, Adding & Removing Elements"
   ]
  },
  {
   "cell_type": "code",
   "execution_count": 10,
   "metadata": {},
   "outputs": [
    {
     "name": "stdout",
     "output_type": "stream",
     "text": [
      "['honda', 'suzuki', 'ducati', 'yamaha']\n",
      "['bmw', 'suzuki', 'ducati', 'yamaha']\n",
      "['bmw', 'suzuki', 'ducati', 'yamaha', 'honda']\n"
     ]
    }
   ],
   "source": [
    "# Modifying Elements in a List\n",
    "\n",
    "motorcycles = ['honda', 'suzuki', 'ducati', 'yamaha']\n",
    "print(motorcycles)\n",
    "motorcycles[0] = 'bmw'\n",
    "print(motorcycles)\n",
    "motorcycles.append('honda')\n",
    "print(motorcycles)"
   ]
  },
  {
   "cell_type": "markdown",
   "metadata": {},
   "source": [
    "Adding Elements to a List"
   ]
  },
  {
   "cell_type": "code",
   "execution_count": null,
   "metadata": {},
   "outputs": [
    {
     "name": "stdout",
     "output_type": "stream",
     "text": [
      "['honda', 'suzuki', 'ducati']\n"
     ]
    }
   ],
   "source": [
    "# Appending Element to the end of a list\n",
    "\n",
    "more_motorcycles = []\n",
    "more_motorcycles.append('honda')\n",
    "more_motorcycles.append('suzuki')\n",
    "more_motorcycles.append('ducati')\n",
    "print(more_motorcycles)"
   ]
  },
  {
   "cell_type": "code",
   "execution_count": 12,
   "metadata": {},
   "outputs": [
    {
     "name": "stdout",
     "output_type": "stream",
     "text": [
      "['yamaha', 'honda', 'suzuki', 'ducati']\n"
     ]
    }
   ],
   "source": [
    "# Inserting Elements into a List\n",
    "\n",
    "motorcycles3 = ['honda', 'suzuki', 'ducati']\n",
    "motorcycles3.insert(0,'yamaha')\n",
    "print(motorcycles3)"
   ]
  },
  {
   "cell_type": "markdown",
   "metadata": {},
   "source": [
    "Removing Elements from a List"
   ]
  },
  {
   "cell_type": "code",
   "execution_count": 15,
   "metadata": {},
   "outputs": [
    {
     "name": "stdout",
     "output_type": "stream",
     "text": [
      "['honda', 'suzuki', 'ducati']\n",
      "['suzuki', 'ducati']\n",
      "['suzuki']\n"
     ]
    }
   ],
   "source": [
    "# Removing an Item Using the del statment\n",
    "\n",
    "motorcycles4 = ['honda', 'suzuki', 'ducati']\n",
    "print(motorcycles4)\n",
    "del motorcycles4[0]\n",
    "print(motorcycles4)\n",
    "del motorcycles4[1]\n",
    "print(motorcycles4)"
   ]
  },
  {
   "cell_type": "code",
   "execution_count": null,
   "metadata": {},
   "outputs": [],
   "source": [
    "# Removing an Item using the pop() method\n",
    "\n"
   ]
  }
 ],
 "metadata": {
  "kernelspec": {
   "display_name": "Python 3",
   "language": "python",
   "name": "python3"
  },
  "language_info": {
   "codemirror_mode": {
    "name": "ipython",
    "version": 3
   },
   "file_extension": ".py",
   "mimetype": "text/x-python",
   "name": "python",
   "nbconvert_exporter": "python",
   "pygments_lexer": "ipython3",
   "version": "3.12.6"
  }
 },
 "nbformat": 4,
 "nbformat_minor": 2
}
