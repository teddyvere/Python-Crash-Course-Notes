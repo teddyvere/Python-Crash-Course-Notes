{
 "cells": [
  {
   "cell_type": "markdown",
   "metadata": {},
   "source": [
    "Accessing elements in a List"
   ]
  },
  {
   "cell_type": "code",
   "execution_count": 7,
   "metadata": {},
   "outputs": [
    {
     "name": "stdout",
     "output_type": "stream",
     "text": [
      "['trek', 'cannondale', 'redline', 'specialized']\n",
      "trek\n",
      "Trek\n",
      "specialized\n"
     ]
    }
   ],
   "source": [
    "bicycles = ['trek', 'cannondale', 'redline', 'specialized']\n",
    "print(bicycles)\n",
    "print(bicycles[0])\n",
    "print(bicycles[0].title())\n",
    "print(bicycles[-1])"
   ]
  },
  {
   "cell_type": "markdown",
   "metadata": {},
   "source": [
    "Using Individual Values From a List"
   ]
  },
  {
   "cell_type": "code",
   "execution_count": 8,
   "metadata": {},
   "outputs": [
    {
     "name": "stdout",
     "output_type": "stream",
     "text": [
      "My first bicycle was a Trek\n"
     ]
    }
   ],
   "source": [
    "print(f\"My first bicycle was a {bicycles[0].title()}\")"
   ]
  },
  {
   "cell_type": "markdown",
   "metadata": {},
   "source": [
    "Changing, Adding & Removing Elements"
   ]
  },
  {
   "cell_type": "code",
   "execution_count": 9,
   "metadata": {},
   "outputs": [
    {
     "name": "stdout",
     "output_type": "stream",
     "text": [
      "['honda', 'suzuki', 'ducati', 'yamaha']\n",
      "['bmw', 'suzuki', 'ducati', 'yamaha']\n",
      "['bmw', 'suzuki', 'ducati', 'yamaha', 'honda']\n"
     ]
    }
   ],
   "source": [
    "# Modifying Elements in a List\n",
    "\n",
    "motorcycles = ['honda', 'suzuki', 'ducati', 'yamaha']\n",
    "print(motorcycles)\n",
    "motorcycles[0] = 'bmw'\n",
    "print(motorcycles)\n",
    "motorcycles.append('honda')\n",
    "print(motorcycles)"
   ]
  },
  {
   "cell_type": "markdown",
   "metadata": {},
   "source": [
    "Adding Elements to a List"
   ]
  },
  {
   "cell_type": "code",
   "execution_count": 10,
   "metadata": {},
   "outputs": [
    {
     "name": "stdout",
     "output_type": "stream",
     "text": [
      "['honda', 'suzuki', 'ducati']\n"
     ]
    }
   ],
   "source": [
    "# Appending Element to the end of a list\n",
    "\n",
    "more_motorcycles = []\n",
    "more_motorcycles.append('honda')\n",
    "more_motorcycles.append('suzuki')\n",
    "more_motorcycles.append('ducati')\n",
    "print(more_motorcycles)"
   ]
  },
  {
   "cell_type": "code",
   "execution_count": 11,
   "metadata": {},
   "outputs": [
    {
     "name": "stdout",
     "output_type": "stream",
     "text": [
      "['yamaha', 'honda', 'suzuki', 'ducati']\n"
     ]
    }
   ],
   "source": [
    "# Inserting Elements into a List\n",
    "\n",
    "motorcycles3 = ['honda', 'suzuki', 'ducati']\n",
    "motorcycles3.insert(0,'yamaha')\n",
    "print(motorcycles3)"
   ]
  },
  {
   "cell_type": "markdown",
   "metadata": {},
   "source": [
    "Removing Elements from a List"
   ]
  },
  {
   "cell_type": "code",
   "execution_count": 12,
   "metadata": {},
   "outputs": [
    {
     "name": "stdout",
     "output_type": "stream",
     "text": [
      "['honda', 'suzuki', 'ducati']\n",
      "['suzuki', 'ducati']\n",
      "['suzuki']\n"
     ]
    }
   ],
   "source": [
    "# Removing an Item Using the del statment\n",
    "\n",
    "motorcycles4 = ['honda', 'suzuki', 'ducati']\n",
    "print(motorcycles4)\n",
    "del motorcycles4[0]\n",
    "print(motorcycles4)\n",
    "del motorcycles4[1]\n",
    "print(motorcycles4)"
   ]
  },
  {
   "cell_type": "code",
   "execution_count": 13,
   "metadata": {},
   "outputs": [
    {
     "name": "stdout",
     "output_type": "stream",
     "text": [
      "['honda', 'suzuki', 'ducati']\n",
      "['honda', 'suzuki']\n",
      "ducati\n"
     ]
    }
   ],
   "source": [
    "# Removing an Item using the pop() method\n",
    "\n",
    "motorcycles5 = ['honda', 'suzuki', 'ducati']\n",
    "print(motorcycles5)\n",
    "popped_motorcycle = motorcycles5.pop() \n",
    "print(motorcycles5)\n",
    "print(popped_motorcycle)"
   ]
  },
  {
   "cell_type": "code",
   "execution_count": 14,
   "metadata": {},
   "outputs": [
    {
     "name": "stdout",
     "output_type": "stream",
     "text": [
      "The last motorcycle I owned was a Honda.\n"
     ]
    }
   ],
   "source": [
    "# Popping items from any position in a list\n",
    "motorcycles6 = ['honda', 'suzuki', 'ducati']\n",
    "last_owned = motorcycles6.pop(0)\n",
    "print(f'The last motorcycle I owned was a {last_owned.title()}.')\n",
    "\n"
   ]
  },
  {
   "cell_type": "code",
   "execution_count": 15,
   "metadata": {},
   "outputs": [
    {
     "name": "stdout",
     "output_type": "stream",
     "text": [
      "['honda', 'suzuki', 'ducati']\n",
      "['honda', 'suzuki']\n"
     ]
    }
   ],
   "source": [
    "# Removing an Item by Value\n",
    "motorcycles7 = ['honda', 'suzuki', 'ducati']\n",
    "print(motorcycles7)\n",
    "\n",
    "motorcycles7.remove('ducati')\n",
    "print(motorcycles7)\n"
   ]
  },
  {
   "cell_type": "code",
   "execution_count": 19,
   "metadata": {},
   "outputs": [
    {
     "name": "stdout",
     "output_type": "stream",
     "text": [
      "['honda', 'suzuki', 'ducati']\n",
      "\n",
      "A Ducati is too expensive for me\n"
     ]
    }
   ],
   "source": [
    "# Using remoove() to work with a value\n",
    "too_expensive = 'ducati'\n",
    "motorcycles8 = ['honda', 'suzuki', 'ducati']\n",
    "print(motorcycles8)\n",
    "print(f\"\\nA {too_expensive.title()} is too expensive for me\")\n",
    "\n"
   ]
  },
  {
   "cell_type": "markdown",
   "metadata": {},
   "source": [
    "# Organizing lists\n",
    "Many times your lists will be created in an unpredictable order, because you can't control how the data comes in. Luckily the are a number of opting to organize your lists."
   ]
  },
  {
   "cell_type": "code",
   "execution_count": 20,
   "metadata": {},
   "outputs": [
    {
     "name": "stdout",
     "output_type": "stream",
     "text": [
      "['audi', 'bmw', 'subaru', 'toyota']\n"
     ]
    }
   ],
   "source": [
    "# Sort Method\n",
    "cars = ['bmw', 'audi', 'toyota', 'subaru']\n",
    "cars.sort()\n",
    "print(cars)"
   ]
  },
  {
   "cell_type": "code",
   "execution_count": 22,
   "metadata": {},
   "outputs": [
    {
     "name": "stdout",
     "output_type": "stream",
     "text": [
      "['toyota', 'subaru', 'bmw', 'audi']\n"
     ]
    }
   ],
   "source": [
    "# Reverse Sort\n",
    "cars2 = ['bmw', 'audi', 'toyota', 'subaru']\n",
    "cars2.sort(reverse=True)\n",
    "print(cars2)"
   ]
  }
 ],
 "metadata": {
  "kernelspec": {
   "display_name": "Python 3",
   "language": "python",
   "name": "python3"
  },
  "language_info": {
   "codemirror_mode": {
    "name": "ipython",
    "version": 3
   },
   "file_extension": ".py",
   "mimetype": "text/x-python",
   "name": "python",
   "nbconvert_exporter": "python",
   "pygments_lexer": "ipython3",
   "version": "3.12.6"
  }
 },
 "nbformat": 4,
 "nbformat_minor": 2
}
